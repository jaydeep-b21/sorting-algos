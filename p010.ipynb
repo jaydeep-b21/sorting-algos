{
 "cells": [
  {
   "cell_type": "markdown",
   "metadata": {},
   "source": [
    "#### selection sort"
   ]
  },
  {
   "cell_type": "code",
   "execution_count": 1,
   "metadata": {},
   "outputs": [
    {
     "name": "stdout",
     "output_type": "stream",
     "text": [
      "[3, 8, 11, 12, 20]\n"
     ]
    }
   ],
   "source": [
    "def selection_sort(nums):\n",
    "    # This value of i corresponds to how many values were sorted\n",
    "    for i in range(len(nums)):\n",
    "        # We assume that the first item of the unsorted segment is the smallest\n",
    "        lowest_value_index = i\n",
    "        # This loop iterates over the unsorted items\n",
    "        for j in range(i + 1, len(nums)):\n",
    "            if nums[j] < nums[lowest_value_index]:\n",
    "                lowest_value_index = j\n",
    "        # Swap values of the lowest unsorted element with the first unsorted\n",
    "        # element\n",
    "        nums[i], nums[lowest_value_index] = nums[lowest_value_index], nums[i]\n",
    "\n",
    "\n",
    "# Verify it works\n",
    "random_list_of_nums = [12, 8, 3, 20, 11]\n",
    "selection_sort(random_list_of_nums)\n",
    "print(random_list_of_nums)"
   ]
  },
  {
   "cell_type": "markdown",
   "metadata": {},
   "source": [
    "#### bubble sort"
   ]
  },
  {
   "cell_type": "code",
   "execution_count": 2,
   "metadata": {},
   "outputs": [
    {
     "name": "stdout",
     "output_type": "stream",
     "text": [
      "[1, 2, 4, 5, 8]\n"
     ]
    }
   ],
   "source": [
    "def bubble_sort(nums):\n",
    "    # We set swapped to True so the loop looks runs at least once\n",
    "    swapped = True\n",
    "    while swapped:\n",
    "        swapped = False\n",
    "        for i in range(len(nums) - 1):\n",
    "            if nums[i] > nums[i + 1]:\n",
    "                # Swap the elements\n",
    "                nums[i], nums[i + 1] = nums[i + 1], nums[i]\n",
    "                # Set the flag to True so we'll loop again\n",
    "                swapped = True\n",
    "\n",
    "\n",
    "# Verify it works\n",
    "random_list_of_nums = [5, 2, 1, 8, 4]\n",
    "bubble_sort(random_list_of_nums)\n",
    "print(random_list_of_nums)"
   ]
  },
  {
   "cell_type": "markdown",
   "metadata": {},
   "source": [
    "####  insertion sort"
   ]
  },
  {
   "cell_type": "code",
   "execution_count": 3,
   "metadata": {},
   "outputs": [
    {
     "name": "stdout",
     "output_type": "stream",
     "text": [
      "[1, 6, 9, 15, 28]\n"
     ]
    }
   ],
   "source": [
    "def insertion_sort(nums):\n",
    "    # Start on the second element as we assume the first element is sorted\n",
    "    for i in range(1, len(nums)):\n",
    "        item_to_insert = nums[i]\n",
    "        # And keep a reference of the index of the previous element\n",
    "        j = i - 1\n",
    "        # Move all items of the sorted segment forward if they are larger than\n",
    "        # the item to insert\n",
    "        while j >= 0 and nums[j] > item_to_insert:\n",
    "            nums[j + 1] = nums[j]\n",
    "            j -= 1\n",
    "        # Insert the item\n",
    "        nums[j + 1] = item_to_insert\n",
    "\n",
    "\n",
    "# Verify it works\n",
    "random_list_of_nums = [9, 1, 15, 28, 6]\n",
    "insertion_sort(random_list_of_nums)\n",
    "print(random_list_of_nums)"
   ]
  },
  {
   "cell_type": "markdown",
   "metadata": {},
   "source": [
    "#### merge sort"
   ]
  },
  {
   "cell_type": "code",
   "execution_count": 4,
   "metadata": {},
   "outputs": [
    {
     "name": "stdout",
     "output_type": "stream",
     "text": [
      "[45, 68, 120, 176, 250]\n"
     ]
    }
   ],
   "source": [
    "def merge(left_list, right_list):\n",
    "    sorted_list = []\n",
    "    left_list_index = right_list_index = 0\n",
    "\n",
    "    # We use the list lengths often, so its handy to make variables\n",
    "    left_list_length, right_list_length = len(left_list), len(right_list)\n",
    "\n",
    "    for _ in range(left_list_length + right_list_length):\n",
    "        if left_list_index < left_list_length and right_list_index < right_list_length:\n",
    "            # We check which value from the start of each list is smaller\n",
    "            # If the item at the beginning of the left list is smaller, add it\n",
    "            # to the sorted list\n",
    "            if left_list[left_list_index] <= right_list[right_list_index]:\n",
    "                sorted_list.append(left_list[left_list_index])\n",
    "                left_list_index += 1\n",
    "            # If the item at the beginning of the right list is smaller, add it\n",
    "            # to the sorted list\n",
    "            else:\n",
    "                sorted_list.append(right_list[right_list_index])\n",
    "                right_list_index += 1\n",
    "\n",
    "        # If we've reached the end of the of the left list, add the elements\n",
    "        # from the right list\n",
    "        elif left_list_index == left_list_length:\n",
    "            sorted_list.append(right_list[right_list_index])\n",
    "            right_list_index += 1\n",
    "        # If we've reached the end of the of the right list, add the elements\n",
    "        # from the left list\n",
    "        elif right_list_index == right_list_length:\n",
    "            sorted_list.append(left_list[left_list_index])\n",
    "            left_list_index += 1\n",
    "\n",
    "    return sorted_list\n",
    "\n",
    "\n",
    "def merge_sort(nums):\n",
    "    # If the list is a single element, return it\n",
    "    if len(nums) <= 1:\n",
    "        return nums\n",
    "\n",
    "    # Use floor division to get midpoint, indices must be integers\n",
    "    mid = len(nums) // 2\n",
    "\n",
    "    # Sort and merge each half\n",
    "    left_list = merge_sort(nums[:mid])\n",
    "    right_list = merge_sort(nums[mid:])\n",
    "\n",
    "    # Merge the sorted lists into a new one\n",
    "    return merge(left_list, right_list)\n",
    "\n",
    "\n",
    "# Verify it works\n",
    "random_list_of_nums = [120, 45, 68, 250, 176]\n",
    "random_list_of_nums = merge_sort(random_list_of_nums)\n",
    "print(random_list_of_nums)"
   ]
  },
  {
   "cell_type": "markdown",
   "metadata": {},
   "source": [
    "####  quick sort"
   ]
  },
  {
   "cell_type": "code",
   "execution_count": 5,
   "metadata": {},
   "outputs": [
    {
     "name": "stdout",
     "output_type": "stream",
     "text": [
      "[1, 5, 18, 22, 99]\n"
     ]
    }
   ],
   "source": [
    "# There are different ways to do a Quick Sort partition, this implements the\n",
    "# Hoare partition scheme. Tony Hoare also created the Quick Sort algorithm.\n",
    "def partition(nums, low, high):\n",
    "    # We select the middle element to be the pivot. Some implementations select\n",
    "    # the first element or the last element. Sometimes the median value becomes\n",
    "    # the pivot, or a random one. There are many more strategies that can be\n",
    "    # chosen or created.\n",
    "    pivot = nums[(low + high) // 2]\n",
    "    i = low - 1\n",
    "    j = high + 1\n",
    "    while True:\n",
    "        i += 1\n",
    "        while nums[i] < pivot:\n",
    "            i += 1\n",
    "\n",
    "        j -= 1\n",
    "        while nums[j] > pivot:\n",
    "            j -= 1\n",
    "\n",
    "        if i >= j:\n",
    "            return j\n",
    "\n",
    "        # If an element at i (on the left of the pivot) is larger than the\n",
    "        # element at j (on right right of the pivot), then swap them\n",
    "        nums[i], nums[j] = nums[j], nums[i]\n",
    "\n",
    "\n",
    "def quick_sort(nums):\n",
    "    # Create a helper function that will be called recursively\n",
    "    def _quick_sort(items, low, high):\n",
    "        if low < high:\n",
    "            # This is the index after the pivot, where our lists are split\n",
    "            split_index = partition(items, low, high)\n",
    "            _quick_sort(items, low, split_index)\n",
    "            _quick_sort(items, split_index + 1, high)\n",
    "\n",
    "    _quick_sort(nums, 0, len(nums) - 1)\n",
    "\n",
    "\n",
    "# Verify it works\n",
    "random_list_of_nums = [22, 5, 1, 18, 99]\n",
    "quick_sort(random_list_of_nums)\n",
    "print(random_list_of_nums)"
   ]
  },
  {
   "cell_type": "code",
   "execution_count": null,
   "metadata": {},
   "outputs": [],
   "source": []
  }
 ],
 "metadata": {
  "kernelspec": {
   "display_name": "Python 3",
   "language": "python",
   "name": "python3"
  },
  "language_info": {
   "codemirror_mode": {
    "name": "ipython",
    "version": 3
   },
   "file_extension": ".py",
   "mimetype": "text/x-python",
   "name": "python",
   "nbconvert_exporter": "python",
   "pygments_lexer": "ipython3",
   "version": "3.8.5"
  }
 },
 "nbformat": 4,
 "nbformat_minor": 4
}
